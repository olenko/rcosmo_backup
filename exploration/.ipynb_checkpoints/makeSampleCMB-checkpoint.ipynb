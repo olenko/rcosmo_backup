{
 "cells": [
  {
   "cell_type": "code",
   "execution_count": 1,
   "metadata": {
    "collapsed": true
   },
   "outputs": [],
   "source": [
    "import numpy as np\n",
    "import healpy as hp\n",
    "from astropy.io import fits"
   ]
  },
  {
   "cell_type": "markdown",
   "metadata": {},
   "source": [
    "Set the Nside and related parameters"
   ]
  },
  {
   "cell_type": "code",
   "execution_count": 2,
   "metadata": {
    "collapsed": true
   },
   "outputs": [],
   "source": [
    "Nside = 1024\n",
    "Npix = 12*Nside**2"
   ]
  },
  {
   "cell_type": "markdown",
   "metadata": {},
   "source": [
    "Set the sample size by setting a 'sample Nside' and related parameters"
   ]
  },
  {
   "cell_type": "code",
   "execution_count": 3,
   "metadata": {
    "collapsed": true
   },
   "outputs": [],
   "source": [
    "sNside = 256\n",
    "sNpix = 12*sNside**2"
   ]
  },
  {
   "cell_type": "markdown",
   "metadata": {},
   "source": [
    "Take the simple random sample (spix) from the collection of HEALPix pixels (pix)"
   ]
  },
  {
   "cell_type": "code",
   "execution_count": 4,
   "metadata": {
    "collapsed": true
   },
   "outputs": [],
   "source": [
    "pix = np.arange(1,12*Nside*Nside)\n",
    "spix = np.random.choice(pix,12*sNside*sNside)"
   ]
  },
  {
   "cell_type": "markdown",
   "metadata": {},
   "source": [
    "Connect to file and look at the header units"
   ]
  },
  {
   "cell_type": "code",
   "execution_count": 103,
   "metadata": {},
   "outputs": [
    {
     "name": "stdout",
     "output_type": "stream",
     "text": [
      "Filename: ../../CMB_map_smica1024.fits\n",
      "No.    Name      Ver    Type      Cards   Dimensions   Format\n",
      "  0  PRIMARY       1 PrimaryHDU      16   ()      \n",
      "  1  COMP-MAP      1 BinTableHDU     61   12582912R x 5C   [E, E, E, B, B]   \n",
      "  2  BEAMTF        1 BinTableHDU     45   4001R x 2C   [E, E]   \n"
     ]
    }
   ],
   "source": [
    "filename = \"../../CMB_map_smica1024.fits\"\n",
    "data, header = fits.getdata(filename, header=True)\n",
    "hdulist = fits.open(filename)\n",
    "hdulist.info()"
   ]
  },
  {
   "cell_type": "markdown",
   "metadata": {},
   "source": [
    "Show full header before we modify NSIDE, NAXIS2, LASTPIX, RESOLN, and TTYPE4"
   ]
  },
  {
   "cell_type": "code",
   "execution_count": 104,
   "metadata": {},
   "outputs": [
    {
     "name": "stdout",
     "output_type": "stream",
     "text": [
      "Before modifications:\n",
      "\n",
      "Extension 0:\n",
      "SIMPLE  =                    T / Written by IDL:  Fri Jul 17 14:54:31 2015      \n",
      "BITPIX  =                    8 / Number of bits per data pixel                  \n",
      "NAXIS   =                    0 / Number of data axes                            \n",
      "EXTEND  =                    T / FITS data may contain extensions               \n",
      "DATE    = '2015-07-17'         / Creation UTC (CCCC-MM-DD) date of FITS header  \n",
      "COMMENT FITS (Flexible Image Transport System) format is defined in 'Astronomy  \n",
      "COMMENT and Astrophysics', volume 376, page 359; bibcode 2001A&A...376..359H    \n",
      "NUMEXT  =                    2 / Number of extensions                           \n",
      "FILENAME= 'COM_CMB_IQU-smica_1024_R2.02_full.fits' / FITS filename              \n",
      "COMMENT                                                                         \n",
      "COMMENT ------------------------------------------------------------------------\n",
      "COMMENT CMB products from smica component separation method                     \n",
      "COMMENT ------------------------------------------------------------------------\n",
      "COMMENT For further details see Planck Explanatory Supplement at:               \n",
      "COMMENT   http://wiki.cosmos.esa.int/planckpla2015                              \n",
      "COMMENT ------------------------------------------------------------------------\n",
      "\n",
      "Extension 1:\n",
      "XTENSION= 'BINTABLE'           /Written by IDL:  Fri Jul 17 14:54:32 2015       \n",
      "BITPIX  =                    8 /                                                \n",
      "NAXIS   =                    2 /Binary table                                    \n",
      "NAXIS1  =                   14 /Number of bytes per row                         \n",
      "NAXIS2  =             12582912 /Number of rows                                  \n",
      "PCOUNT  =                    0 /Random parameter count                          \n",
      "GCOUNT  =                    1 /Group count                                     \n",
      "TFIELDS =                    5 /Number of columns                               \n",
      "COMMENT                                                                         \n",
      "COMMENT  *** End of mandatory fields ***                                        \n",
      "COMMENT                                                                         \n",
      "EXTVER  =                    1 /Extension version                               \n",
      "DATE    = '2015-07-17'         /Creation date                                   \n",
      "COMMENT                                                                         \n",
      "COMMENT  *** Column names ***                                                   \n",
      "COMMENT                                                                         \n",
      "TTYPE1  = 'I_STOKES'           /                                                \n",
      "TTYPE2  = 'Q_STOKES'           /                                                \n",
      "TTYPE3  = 'U_STOKES'           /                                                \n",
      "TTYPE4  = 'TMASK   '           /                                                \n",
      "TTYPE5  = 'PMASK   '           /                                                \n",
      "COMMENT                                                                         \n",
      "COMMENT  *** Column formats ***                                                 \n",
      "COMMENT                                                                         \n",
      "TFORM1  = 'E       '           /                                                \n",
      "TFORM2  = 'E       '           /                                                \n",
      "TFORM3  = 'E       '           /                                                \n",
      "TFORM4  = 'B       '           /                                                \n",
      "TFORM5  = 'B       '           /                                                \n",
      "COMMENT                                                                         \n",
      "COMMENT  *** Column units ***                                                   \n",
      "COMMENT                                                                         \n",
      "TUNIT1  = 'K_CMB   '           / map units                                      \n",
      "TUNIT2  = 'K_CMB   '           / map units                                      \n",
      "TUNIT3  = 'K_CMB   '           / map units                                      \n",
      "TUNIT4  = '        '           / no units                                       \n",
      "TUNIT5  = '        '           / no units                                       \n",
      "COMMENT                                                                         \n",
      "COMMENT  *** Planck params ***                                                  \n",
      "COMMENT                                                                         \n",
      "EXTNAME = 'COMP-MAP'           / Extension name                                 \n",
      "AST-COMP= 'CMB     '           / Component                                      \n",
      "RESOLN  =                   10 / arcmin                                         \n",
      "PIXTYPE = 'HEALPIX '           /                                                \n",
      "POLCCONV= 'COSMO   '           / Polarization convention                        \n",
      "COORDSYS= 'GALACTIC'           / Coordinate system                              \n",
      "ORDERING= 'NESTED  '           / Healpix ordering                               \n",
      "NSIDE   =                 1024 / Healpix Nside                                  \n",
      "FIRSTPIX=                    0 /                                                \n",
      "LASTPIX =             12582911 /                                                \n",
      "FILENAME= 'COM_CMB_IQU-smica_1024_R2.02_full.fits' / FITS filename              \n",
      "BAD_DATA=         -1.63750E+30 / HEALPIX bad pixel value                        \n",
      "METHOD  = 'smica   '           / Separation method                              \n",
      "PROCVER = 'DX11    '           / Product version                                \n",
      "COMMENT                                                                         \n",
      "COMMENT ------------------------------------------------------------------------\n",
      "COMMENT CMB products from smica, coverage full                                  \n",
      "COMMENT ------------------------------------------------------------------------\n",
      "COMMENT For further details see Planck Explanatory Supplement at:               \n",
      "COMMENT   http://wiki.cosmos.esa.int/planckpla2015                              \n",
      "COMMENT ------------------------------------------------------------------------\n"
     ]
    }
   ],
   "source": [
    "print(\"Before modifications:\")\n",
    "print()\n",
    "print(\"Extension 0:\")\n",
    "print(repr(fits.getheader(filename, 0)))\n",
    "print()\n",
    "print(\"Extension 1:\")\n",
    "print(repr(fits.getheader(filename, 1)))"
   ]
  },
  {
   "cell_type": "markdown",
   "metadata": {},
   "source": [
    "### The remainder of this notebook is incomplete and somewhat flawed\n",
    "\n",
    "The idea was that we could create a smaller FITS file with a simple random sample \n",
    "of the original Nside = 1024 FITS file, then we could include it as sample data in \n",
    "the R package. Unfortunately the of HEALPix pixel indices is lost when we write \n",
    "the new file below. Hence we need to figure out how to insert a new column in the \n",
    "sample data frame containing the HEALPix indices of the sample, perhaps replacing\n",
    "PMASK or TMASK. This column could then be accessed by a slightly altered version of\n",
    "readFITScmb in R, designed to optionally take an array of pixel indices instead\n",
    "of the Nside parameter (which it currently takes).\n",
    "\n",
    "Notice that spix contains the sample pixel indices, it is just a matter of writing it\n",
    "in place of PMASK or TMASK then changing the relevant header info.\n",
    "For example, here are the first 10 sample pixel indices:"
   ]
  },
  {
   "cell_type": "code",
   "execution_count": 107,
   "metadata": {},
   "outputs": [
    {
     "data": {
      "text/plain": [
       "array([ 8224723,  6155352, 12161074,  8611508,  6506440,   326030,\n",
       "        4636818,  6706995, 10273064, 11812486])"
      ]
     },
     "execution_count": 107,
     "metadata": {},
     "output_type": "execute_result"
    }
   ],
   "source": [
    "spix[:10]"
   ]
  },
  {
   "cell_type": "markdown",
   "metadata": {},
   "source": [
    "Write the new file with Nside = 256 random sample size, and then alter the header"
   ]
  },
  {
   "cell_type": "code",
   "execution_count": 108,
   "metadata": {
    "collapsed": true
   },
   "outputs": [],
   "source": [
    "newfilename = 'CMB_testmap_1024_256sample.fits'\n",
    "fits.writeto(newfilename, data[spix], header, overwrite=True)\n",
    "fits.setval(newfilename, 'NSIDE', value=str(sNside), ext=1)\n",
    "fits.setval(newfilename, 'NAXIS2', value=12*sNside*sNside, ext=1)\n",
    "fits.setval(newfilename, 'LASTPIX', value=12*sNside*sNside-1, ext=1)\n",
    "fits.setval(newfilename, 'RESOLN', value='NA', ext=1)"
   ]
  },
  {
   "cell_type": "markdown",
   "metadata": {},
   "source": [
    "Look at header info after modifications"
   ]
  },
  {
   "cell_type": "code",
   "execution_count": 39,
   "metadata": {},
   "outputs": [
    {
     "name": "stdout",
     "output_type": "stream",
     "text": [
      "After modifications:\n",
      "\n",
      "Extension 0:\n",
      "SIMPLE  =                    T / conforms to FITS standard                      \n",
      "BITPIX  =                    8 / array data type                                \n",
      "NAXIS   =                    0 / number of array dimensions                     \n",
      "EXTEND  =                    T                                                  \n",
      "\n",
      "Extension 1:\n",
      "XTENSION= 'BINTABLE'           / binary table extension                         \n",
      "BITPIX  =                    8 / array data type                                \n",
      "NAXIS   =                    2 / number of array dimensions                     \n",
      "NAXIS1  =                   14 / length of dimension 1                          \n",
      "NAXIS2  =               786432 / length of dimension 2                          \n",
      "PCOUNT  =                    0 / number of group parameters                     \n",
      "GCOUNT  =                    1 / number of groups                               \n",
      "TFIELDS =                    5 / number of table fields                         \n",
      "COMMENT                                                                         \n",
      "COMMENT  *** End of mandatory fields ***                                        \n",
      "COMMENT                                                                         \n",
      "EXTVER  =                    1 /Extension version                               \n",
      "DATE    = '2015-07-17'         /Creation date                                   \n",
      "COMMENT                                                                         \n",
      "COMMENT  *** Column names ***                                                   \n",
      "COMMENT                                                                         \n",
      "COMMENT                                                                         \n",
      "COMMENT  *** Column formats ***                                                 \n",
      "COMMENT                                                                         \n",
      "COMMENT                                                                         \n",
      "COMMENT  *** Column units ***                                                   \n",
      "COMMENT                                                                         \n",
      "COMMENT                                                                         \n",
      "COMMENT  *** Planck params ***                                                  \n",
      "COMMENT                                                                         \n",
      "EXTNAME = 'COMP-MAP'           / Extension name                                 \n",
      "AST-COMP= 'CMB     '           / Component                                      \n",
      "RESOLN  = 'NA      '           / arcmin                                         \n",
      "PIXTYPE = 'HEALPIX '           /                                                \n",
      "POLCCONV= 'COSMO   '           / Polarization convention                        \n",
      "COORDSYS= 'GALACTIC'           / Coordinate system                              \n",
      "ORDERING= 'NESTED  '           / Healpix ordering                               \n",
      "NSIDE   = '256     '           / Healpix Nside                                  \n",
      "FIRSTPIX=                    0 /                                                \n",
      "LASTPIX =               786431                                                  \n",
      "FILENAME= 'COM_CMB_IQU-smica_1024_R2.02_full.fits' / FITS filename              \n",
      "BAD_DATA=         -1.63750E+30 / HEALPIX bad pixel value                        \n",
      "METHOD  = 'smica   '           / Separation method                              \n",
      "PROCVER = 'DX11    '           / Product version                                \n",
      "TTYPE1  = 'I_STOKES'                                                            \n",
      "TFORM1  = 'E       '                                                            \n",
      "TUNIT1  = 'K_CMB   '                                                            \n",
      "TTYPE2  = 'Q_STOKES'                                                            \n",
      "TFORM2  = 'E       '                                                            \n",
      "TUNIT2  = 'K_CMB   '                                                            \n",
      "TTYPE3  = 'U_STOKES'                                                            \n",
      "TFORM3  = 'E       '                                                            \n",
      "TUNIT3  = 'K_CMB   '                                                            \n",
      "TTYPE4  = 'TMASK   '                                                            \n",
      "TFORM4  = 'B       '                                                            \n",
      "TTYPE5  = 'PMASK   '                                                            \n",
      "TFORM5  = 'B       '                                                            \n",
      "COMMENT                                                                         \n",
      "COMMENT ------------------------------------------------------------------------\n",
      "COMMENT CMB products from smica, coverage full                                  \n",
      "COMMENT ------------------------------------------------------------------------\n",
      "COMMENT For further details see Planck Explanatory Supplement at:               \n",
      "COMMENT   http://wiki.cosmos.esa.int/planckpla2015                              \n",
      "COMMENT ------------------------------------------------------------------------\n"
     ]
    }
   ],
   "source": [
    "print(\"After modifications:\")\n",
    "print()\n",
    "print(\"Extension 0:\")\n",
    "print(repr(fits.getheader(newfilename, 0)))\n",
    "print()\n",
    "print(\"Extension 1:\")\n",
    "print(repr(fits.getheader(newfilename, 1)))"
   ]
  },
  {
   "cell_type": "code",
   "execution_count": null,
   "metadata": {
    "collapsed": true
   },
   "outputs": [],
   "source": []
  }
 ],
 "metadata": {
  "kernelspec": {
   "display_name": "Python 3",
   "language": "python",
   "name": "python3"
  },
  "language_info": {
   "codemirror_mode": {
    "name": "ipython",
    "version": 3
   },
   "file_extension": ".py",
   "mimetype": "text/x-python",
   "name": "python",
   "nbconvert_exporter": "python",
   "pygments_lexer": "ipython3",
   "version": "3.6.1"
  }
 },
 "nbformat": 4,
 "nbformat_minor": 2
}
